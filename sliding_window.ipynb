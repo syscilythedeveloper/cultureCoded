{
 "cells": [
  {
   "cell_type": "code",
   "execution_count": 1,
   "id": "badfcefc",
   "metadata": {},
   "outputs": [],
   "source": [
    "points = [35, 40, 28, 50, 60, 20, 55, 48, 33]\n",
    "streak_length = 3\n"
   ]
  },
  {
   "cell_type": "code",
   "execution_count": null,
   "id": "b835c0b1",
   "metadata": {},
   "outputs": [
    {
     "name": "stdout",
     "output_type": "stream",
     "text": [
      "138\n"
     ]
    }
   ],
   "source": [
    "def max_kobe_streak(points, k):\n",
    "    \"\"\"\n",
    "    Returns the maximum total points scored in any k-game window.\n",
    "    Uses a fixed-size sliding window approach.\n",
    "    \"\"\"\n",
    "    max_sum = 0\n",
    "    window_sum = 0\n",
    "    left = 0\n",
    "\n",
    "    for right in range(len(points)):\n",
    "        window_sum += points[right]\n",
    "\n",
    "        # Shrink the window if it's too big\n",
    "        if right - left + 1 > k:\n",
    "            window_sum -= points[left]\n",
    "            left += 1\n",
    "\n",
    "        # Check max once window hits size k\n",
    "        if right - left + 1 == k:\n",
    "            max_sum = max(max_sum, window_sum)\n",
    "\n",
    "    return max_sum\n",
    "\n",
    "# Example usage\n",
    "print(max_kobe_streak(points, streak_length))  "
   ]
  },
  {
   "cell_type": "code",
   "execution_count": null,
   "id": "a0fa3f6d",
   "metadata": {},
   "outputs": [],
   "source": [
    "from collections import deque\n",
    "from datetime import datetime, timedelta\n",
    "\n",
    "def is_trending(video_timestamps, current_time, window_minutes=60, threshold=50):\n",
    "    \"\"\"\n",
    "    video_timestamps: list of datetime objects when the sound was used\n",
    "    current_time: current time for the sliding window\n",
    "    window_minutes: size of the time window to evaluate\n",
    "    threshold: minimum videos needed to count as \"trending\"\n",
    "    \"\"\"\n",
    "\n",
    "    # deque (double-ended queue) lets us efficiently add/remove timestamps\n",
    "    # from both ends as we slide through time-based data\n",
    "    window = deque()\n",
    "\n",
    "    for ts in video_timestamps:\n",
    "        # Add timestamp to the window if it falls within the current time window\n",
    "        if current_time - ts <= timedelta(minutes=window_minutes):\n",
    "            window.append(ts)\n",
    "\n",
    "    return len(window) >= threshold\n"
   ]
  }
 ],
 "metadata": {
  "kernelspec": {
   "display_name": "Python 3",
   "language": "python",
   "name": "python3"
  },
  "language_info": {
   "codemirror_mode": {
    "name": "ipython",
    "version": 3
   },
   "file_extension": ".py",
   "mimetype": "text/x-python",
   "name": "python",
   "nbconvert_exporter": "python",
   "pygments_lexer": "ipython3",
   "version": "3.12.4"
  }
 },
 "nbformat": 4,
 "nbformat_minor": 5
}
