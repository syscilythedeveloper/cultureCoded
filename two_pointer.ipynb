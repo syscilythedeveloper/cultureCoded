{
 "cells": [
  {
   "cell_type": "code",
   "execution_count": 1,
   "id": "c2455bfc",
   "metadata": {},
   "outputs": [],
   "source": [
    "energy_scores = [3, 5, 7, 11, 12, 17, 18, 26, 30]\n",
    "target = 30"
   ]
  },
  {
   "cell_type": "code",
   "execution_count": null,
   "id": "34866c61",
   "metadata": {},
   "outputs": [],
   "source": [
    "def find_energy_pair(energy_scores, target):\n",
    "    \"\"\"\n",
    "    Finds two songs (by index) in a sorted list whose energy levels add up to the target.\n",
    "    Uses the two pointer approach to search efficiently.\n",
    "    \"\"\"\n",
    "    left = 0\n",
    "    right = len(energy_scores) - 1\n",
    "\n",
    "    while left < right:\n",
    "        total = energy_scores[left] + energy_scores[right]\n",
    "\n",
    "        if total == target:\n",
    "            print(f\"Found pair: {energy_scores[left]} + {energy_scores[right]} = {target}\")\n",
    "            return [left, right]\n",
    "        elif total < target:\n",
    "            left += 1  # Not enough energy — try a more intense song\n",
    "        else:\n",
    "            right -= 1  # Too much energy — tone it down\n",
    "\n",
    "    return None  # No combo found"
   ]
  },
  {
   "cell_type": "code",
   "execution_count": 3,
   "id": "0eecad89",
   "metadata": {},
   "outputs": [
    {
     "name": "stdout",
     "output_type": "stream",
     "text": [
      "Found pair: 12 + 18 = 30\n",
      "[4, 6]\n"
     ]
    }
   ],
   "source": [
    "print(find_energy_pair(energy_scores, target))"
   ]
  },
  {
   "cell_type": "code",
   "execution_count": null,
   "id": "51acc048",
   "metadata": {},
   "outputs": [],
   "source": [
    "playback_time = 759  # seconds (12:39)\n",
    "buffer_time = 779    # seconds (12:59)\n",
    "\n",
    "def calculate_buffer_gap(playback_time, buffer_time):\n",
    "    \"\"\"\n",
    "    Calculates the gap between playback time and buffer time.\n",
    "    Returns the gap in seconds.\n",
    "    \"\"\"\n",
    "    return buffer_time - playback_time\n",
    "\n",
    "def should_fetch_more_data(playback_time, buffer_time, threshold=5):\n",
    "    \"\"\"\n",
    "    Determines whether more video data should be fetched based on buffer gap.\n",
    "    Returns True if buffer is too close to playback, otherwise False.\n",
    "    \"\"\"\n",
    "    gap = calculate_buffer_gap(playback_time, buffer_time)\n",
    "    return gap < threshold\n",
    "\n",
    "# Example usage\n",
    "if should_fetch_more_data(playback_time, buffer_time):\n",
    "    print(\"Buffer is running low! Fetch more video data.\")\n",
    "else:\n",
    "    print(\"Buffer is sufficient. No need to fetch more data.\")\n"
   ]
  }
 ],
 "metadata": {
  "kernelspec": {
   "display_name": "base",
   "language": "python",
   "name": "python3"
  },
  "language_info": {
   "codemirror_mode": {
    "name": "ipython",
    "version": 3
   },
   "file_extension": ".py",
   "mimetype": "text/x-python",
   "name": "python",
   "nbconvert_exporter": "python",
   "pygments_lexer": "ipython3",
   "version": "3.12.2"
  }
 },
 "nbformat": 4,
 "nbformat_minor": 5
}
