{
 "cells": [
  {
   "cell_type": "code",
   "execution_count": 1,
   "id": "28e584b5",
   "metadata": {},
   "outputs": [],
   "source": [
    "energy_scores = [3, 5, 7, 9, 11, 13, 15, 18, 20]\n",
    "target = 30"
   ]
  },
  {
   "cell_type": "code",
   "execution_count": 2,
   "id": "c2455bfc",
   "metadata": {},
   "outputs": [],
   "source": [
    "energy_scores = [3, 5, 7, 11, 12, 17, 18, 26, 30]\n",
    "target = 30"
   ]
  },
  {
   "cell_type": "code",
   "execution_count": 5,
   "id": "34866c61",
   "metadata": {},
   "outputs": [],
   "source": [
    "def find_energy_pair(energy_scores, target):\n",
    "    left = 0\n",
    "    right = len(energy_scores) - 1\n",
    "\n",
    "    while left < right:\n",
    "        total = energy_scores[left] + energy_scores[right]\n",
    "\n",
    "        if total == target:\n",
    "            return (left, right)\n",
    "        elif total < target:\n",
    "            left += 1  # Not enough energy — try a more intense song\n",
    "        else:\n",
    "            right -= 1  # Too much energy — tone it down\n",
    "\n",
    "    return None  # No combo found"
   ]
  },
  {
   "cell_type": "code",
   "execution_count": null,
   "id": "0eecad89",
   "metadata": {},
   "outputs": [
    {
     "name": "stdout",
     "output_type": "stream",
     "text": [
      "(2, 8)\n"
     ]
    }
   ],
   "source": [
    "print(find_energy_pair(energy_scores, target))  # Output: (4, 6) - indexes of values 12 and 18"
   ]
  }
 ],
 "metadata": {
  "kernelspec": {
   "display_name": "base",
   "language": "python",
   "name": "python3"
  },
  "language_info": {
   "codemirror_mode": {
    "name": "ipython",
    "version": 3
   },
   "file_extension": ".py",
   "mimetype": "text/x-python",
   "name": "python",
   "nbconvert_exporter": "python",
   "pygments_lexer": "ipython3",
   "version": "3.12.2"
  }
 },
 "nbformat": 4,
 "nbformat_minor": 5
}
