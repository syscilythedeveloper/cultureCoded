{
 "cells": [
  {
   "cell_type": "code",
   "execution_count": 18,
   "id": "f4afb123",
   "metadata": {},
   "outputs": [],
   "source": [
    "team_USA_handoffs_times = [\"48.64\", \"1:37.21\", \"2:26.51\",\"3:15.27\"]"
   ]
  },
  {
   "cell_type": "code",
   "execution_count": 19,
   "id": "89870f85",
   "metadata": {},
   "outputs": [],
   "source": [
    "def convert_to_seconds(time_str):\n",
    "    time_str = time_str.strip()\n",
    "\n",
    "    if \":\" in time_str:\n",
    "        minutes_part, sec_ms_part = time_str.split(\":\")\n",
    "        minutes = int(minutes_part)\n",
    "        seconds = float(sec_ms_part) \n",
    "        return round(minutes * 60 + seconds, 2)\n",
    "    else:\n",
    "        # Format: SS.ms\n",
    "        return round(float(time_str), 2)\n"
   ]
  },
  {
   "cell_type": "code",
   "execution_count": 20,
   "id": "f87c0a68",
   "metadata": {},
   "outputs": [
    {
     "name": "stdout",
     "output_type": "stream",
     "text": [
      "USA handoffs time in seconds: [48.64, 97.21, 146.51, 195.27]\n"
     ]
    }
   ],
   "source": [
    "print(\"USA handoffs time in seconds:\", [convert_to_seconds(t) for t in team_USA_handoffs_times])"
   ]
  },
  {
   "cell_type": "code",
   "execution_count": 24,
   "id": "3d90d088",
   "metadata": {},
   "outputs": [],
   "source": [
    "\n",
    "def getSplit(cumulative_times, leg_number):\n",
    "    \"\"\"\n",
    "    Returns the split time (duration) for a given leg number in the relay race.\n",
    "    The input cumulative_times is a list of time strings representing when each baton was handed off.\n",
    "    The function converts times to seconds and returns the duration of the given leg.\n",
    "\n",
    "    Args:\n",
    "        cumulative_times (list): Cumulative handoff times for each leg.\n",
    "        leg_number (int): 1-based index of the leg (1 to 4 for a 4-leg relay).\n",
    "    \n",
    "    Returns:\n",
    "        int: Duration of the specified leg in seconds.\n",
    "    \"\"\"\n",
    "    # Convert all cumulative times to seconds\n",
    "    handoffs_times_off_times = [convert_to_seconds(time) for time in cumulative_times]\n",
    "\n",
    "    #make sure a valid leg number is passed\n",
    "    if leg_number <1 or leg_number> len(handoffs_times_off_times): \n",
    "        return \"Not a valid leg \"\n",
    "\n",
    "    if leg_number == 1:\n",
    "        return handoffs_times_off_times[0]\n",
    "    else: \n",
    "        #Adjust for 0 based indexing \n",
    "        i = leg_number - 1\n",
    "        #Round the difference to 2 decimal places\n",
    "        return round(float(handoffs_times_off_times[i] - handoffs_times_off_times[i-1]),2)\n",
    "\n",
    "\n",
    "  "
   ]
  },
  {
   "cell_type": "code",
   "execution_count": 25,
   "id": "f865010f",
   "metadata": {},
   "outputs": [
    {
     "name": "stdout",
     "output_type": "stream",
     "text": [
      "Shamier Little's split time: 48.64\n",
      "Sydney McLaughlin-Levone's split time: 48.57\n",
      "Gabby Thomas's split time: 49.3\n",
      "Alexis Holmes's split time: 48.76\n",
      "Alyson Felix's split time: Not a valid leg \n",
      "Flo Jo's split time: Not a valid leg \n"
     ]
    }
   ],
   "source": [
    "shameir_litter = getSplit(team_USA_handoffs_times, 1)\n",
    "sydney_mclaughlin = getSplit(team_USA_handoffs_times, 2)\n",
    "gabby_thomas = getSplit(team_USA_handoffs_times, 3)\n",
    "alexis_holmes = getSplit(team_USA_handoffs_times, 4)\n",
    "alyson_felix = getSplit(team_USA_handoffs_times, 5) \n",
    "flo_jo = getSplit(team_USA_handoffs_times, 0)\n",
    "\n",
    "print(\"Shamier Little's split time:\", shameir_litter)\n",
    "print(\"Sydney McLaughlin-Levone's split time:\", sydney_mclaughlin)\n",
    "print(\"Gabby Thomas's split time:\", gabby_thomas)\n",
    "print(\"Alexis Holmes's split time:\", alexis_holmes)\n",
    "print(\"Alyson Felix's split time:\", alyson_felix)\n",
    "print(\"Flo Jo's split time:\", flo_jo)"
   ]
  }
 ],
 "metadata": {
  "kernelspec": {
   "display_name": "Python 3",
   "language": "python",
   "name": "python3"
  },
  "language_info": {
   "codemirror_mode": {
    "name": "ipython",
    "version": 3
   },
   "file_extension": ".py",
   "mimetype": "text/x-python",
   "name": "python",
   "nbconvert_exporter": "python",
   "pygments_lexer": "ipython3",
   "version": "3.12.4"
  }
 },
 "nbformat": 4,
 "nbformat_minor": 5
}
