{
 "cells": [
  {
   "cell_type": "code",
   "execution_count": null,
   "id": "f4afb123",
   "metadata": {},
   "outputs": [],
   "source": [
    "stopwatch = [\"61\", \"1:42\", \"2:34\",\"3:15\"]\n"
   ]
  },
  {
   "cell_type": "markdown",
   "id": "ed5ab67d",
   "metadata": {},
   "source": [
    "To do: Finish function for converting time, keeping edge cases in mind "
   ]
  },
  {
   "cell_type": "code",
   "execution_count": 55,
   "id": "89870f85",
   "metadata": {},
   "outputs": [
    {
     "name": "stdout",
     "output_type": "stream",
     "text": [
      "3664\n"
     ]
    }
   ],
   "source": [
    "def convert_to_seconds(time_str):\n",
    "    \"\"\"\n",
    "    Converts a time string in 'M:SS' or 'MM:SS' format to total seconds.\n",
    "    Example: '1:42' → 102 seconds\n",
    "    \"\"\"\n",
    "    minutes, seconds = map(int, time_str.strip().split(\":\"))\n",
    "    return minutes * 60 + seconds\n",
    "\n",
    "print(convert_to_seconds(\"61:4\"))"
   ]
  },
  {
   "cell_type": "code",
   "execution_count": 53,
   "id": "3d90d088",
   "metadata": {},
   "outputs": [],
   "source": [
    "\n",
    "def getSplit(arr, leg):\n",
    "    timeinSec = [0] * len(arr)\n",
    "    print(timeinSec)\n",
    "\n",
    "    for time in arr: \n",
    "        timeinSec[time] = convert_to_seconds(time)\n",
    "    print(timeinSec)\n",
    "  \n",
    "    # prefix_times = [0]+ stopwatch\n",
    "\n",
    "    # if leg == 1:\n",
    "    #     return arr[0]\n",
    "    # split = prefix_times[leg] - prefix_times[leg-1]\n",
    "    # return split\n",
    "\n"
   ]
  },
  {
   "cell_type": "code",
   "execution_count": 49,
   "id": "0973161e",
   "metadata": {},
   "outputs": [
    {
     "name": "stdout",
     "output_type": "stream",
     "text": [
      "[0, 0, 0, 0]\n"
     ]
    },
    {
     "ename": "AttributeError",
     "evalue": "'int' object has no attribute 'strip'",
     "output_type": "error",
     "traceback": [
      "\u001b[0;31m---------------------------------------------------------------------------\u001b[0m",
      "\u001b[0;31mAttributeError\u001b[0m                            Traceback (most recent call last)",
      "Cell \u001b[0;32mIn[49], line 1\u001b[0m\n\u001b[0;32m----> 1\u001b[0m \u001b[38;5;28mprint\u001b[39m(\u001b[43mgetSplit\u001b[49m\u001b[43m(\u001b[49m\u001b[43mstopwatch\u001b[49m\u001b[43m,\u001b[49m\u001b[38;5;241;43m1\u001b[39;49m\u001b[43m)\u001b[49m)\n\u001b[1;32m      2\u001b[0m \u001b[38;5;28mprint\u001b[39m(getSplit(stopwatch,\u001b[38;5;241m2\u001b[39m))\n\u001b[1;32m      3\u001b[0m \u001b[38;5;28mprint\u001b[39m(getSplit(stopwatch,\u001b[38;5;241m3\u001b[39m))\n",
      "Cell \u001b[0;32mIn[48], line 6\u001b[0m, in \u001b[0;36mgetSplit\u001b[0;34m(arr, leg)\u001b[0m\n\u001b[1;32m      3\u001b[0m \u001b[38;5;28mprint\u001b[39m(timeinSec)\n\u001b[1;32m      5\u001b[0m \u001b[38;5;28;01mfor\u001b[39;00m time \u001b[38;5;129;01min\u001b[39;00m arr: \n\u001b[0;32m----> 6\u001b[0m     timeinSec[time] \u001b[38;5;241m=\u001b[39m \u001b[43mconvert_to_seconds\u001b[49m\u001b[43m(\u001b[49m\u001b[43mtime\u001b[49m\u001b[43m)\u001b[49m\n\u001b[1;32m      7\u001b[0m \u001b[38;5;28mprint\u001b[39m(timeinSec)\n",
      "Cell \u001b[0;32mIn[41], line 6\u001b[0m, in \u001b[0;36mconvert_to_seconds\u001b[0;34m(time_str)\u001b[0m\n\u001b[1;32m      1\u001b[0m \u001b[38;5;28;01mdef\u001b[39;00m \u001b[38;5;21mconvert_to_seconds\u001b[39m(time_str):\n\u001b[1;32m      2\u001b[0m \u001b[38;5;250m    \u001b[39m\u001b[38;5;124;03m\"\"\"\u001b[39;00m\n\u001b[1;32m      3\u001b[0m \u001b[38;5;124;03m    Converts a time string in 'M:SS' or 'MM:SS' format to total seconds.\u001b[39;00m\n\u001b[1;32m      4\u001b[0m \u001b[38;5;124;03m    Example: '1:42' → 102 seconds\u001b[39;00m\n\u001b[1;32m      5\u001b[0m \u001b[38;5;124;03m    \"\"\"\u001b[39;00m\n\u001b[0;32m----> 6\u001b[0m     minutes, seconds \u001b[38;5;241m=\u001b[39m \u001b[38;5;28mmap\u001b[39m(\u001b[38;5;28mint\u001b[39m, \u001b[43mtime_str\u001b[49m\u001b[38;5;241;43m.\u001b[39;49m\u001b[43mstrip\u001b[49m()\u001b[38;5;241m.\u001b[39msplit(\u001b[38;5;124m\"\u001b[39m\u001b[38;5;124m:\u001b[39m\u001b[38;5;124m\"\u001b[39m))\n\u001b[1;32m      7\u001b[0m     \u001b[38;5;28;01mreturn\u001b[39;00m minutes \u001b[38;5;241m*\u001b[39m \u001b[38;5;241m60\u001b[39m \u001b[38;5;241m+\u001b[39m seconds\n",
      "\u001b[0;31mAttributeError\u001b[0m: 'int' object has no attribute 'strip'"
     ]
    }
   ],
   "source": [
    "print(getSplit(stopwatch,1))\n",
    "print(getSplit(stopwatch,2))\n",
    "print(getSplit(stopwatch,3))\n",
    "print(getSplit(stopwatch,4))\n"
   ]
  },
  {
   "cell_type": "markdown",
   "id": "5a59c817",
   "metadata": {},
   "source": [
    "When tracking the time, the timer keeps going, we don't stop for each each runner "
   ]
  }
 ],
 "metadata": {
  "kernelspec": {
   "display_name": "Python 3",
   "language": "python",
   "name": "python3"
  },
  "language_info": {
   "codemirror_mode": {
    "name": "ipython",
    "version": 3
   },
   "file_extension": ".py",
   "mimetype": "text/x-python",
   "name": "python",
   "nbconvert_exporter": "python",
   "pygments_lexer": "ipython3",
   "version": "3.12.4"
  }
 },
 "nbformat": 4,
 "nbformat_minor": 5
}
