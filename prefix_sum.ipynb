{
 "cells": [
  {
   "cell_type": "code",
   "execution_count": 6,
   "id": "f4afb123",
   "metadata": {},
   "outputs": [],
   "source": [
    "stopwatch = [\"48.64\", \"1:37.21\", \"2:26.51\",\"3:15\"]"
   ]
  },
  {
   "cell_type": "code",
   "execution_count": 7,
   "id": "89870f85",
   "metadata": {},
   "outputs": [
    {
     "name": "stdout",
     "output_type": "stream",
     "text": [
      "48.64\n",
      "97.21\n",
      "146.51\n",
      "195.0\n"
     ]
    }
   ],
   "source": [
    "def convert_to_seconds(time_str):\n",
    "    \"\"\"\n",
    "    Converts a time string into total seconds as a float.\n",
    "    Supports:\n",
    "      - 'SS.ms' → seconds and milliseconds\n",
    "      - 'M:SS' or 'MM:SS' → minutes and seconds\n",
    "      - 'M:SS.ms' → minutes, seconds, and milliseconds\n",
    "\n",
    "    Returns:\n",
    "        float: total seconds (e.g. 1:37.21 → 97.21)\n",
    "    \"\"\"\n",
    "    time_str = time_str.strip()\n",
    "\n",
    "    if \":\" in time_str:\n",
    "        # Format: M:SS or M:SS.ms\n",
    "        minutes_part, sec_ms_part = time_str.split(\":\")\n",
    "        minutes = int(minutes_part)\n",
    "        seconds = float(sec_ms_part)  # handles SS or SS.ms\n",
    "        return round(minutes * 60 + seconds, 3)\n",
    "    else:\n",
    "        # Format: SS.ms\n",
    "        return round(float(time_str), 3)\n",
    "for time in stopwatch:\n",
    "    print(convert_to_seconds(time))\n"
   ]
  },
  {
   "cell_type": "code",
   "execution_count": 8,
   "id": "3d90d088",
   "metadata": {},
   "outputs": [],
   "source": [
    "\n",
    "def getSplit(cumulative_times, leg_number):\n",
    "    \"\"\"\n",
    "    Returns the split time (duration) for a given leg number in the relay race.\n",
    "    \n",
    "    The input cumulative_times is a list of time strings representing when each baton was handed off.\n",
    "    The function converts times to seconds and returns the duration of the given leg.\n",
    "\n",
    "    Args:\n",
    "        cumulative_times (list): Cumulative handoff times for each leg.\n",
    "        leg_number (int): 1-based index of the leg (1 to 4 for a 4-leg relay).\n",
    "    \n",
    "    Returns:\n",
    "        int: Duration of the specified leg in seconds.\n",
    "    \"\"\"\n",
    "    # Convert all cumulative times to seconds\n",
    "    baton_hand_off_times = [convert_to_seconds(time) for time in cumulative_times]\n",
    "    if leg_number <1 or leg_number> len(baton_hand_off_times): \n",
    "        return \"Not a valid leg \"\n",
    "    if leg_number == 1: \n",
    "        return baton_hand_off_times[0]\n",
    "    else: \n",
    "        #Adjust for -=based indexing \n",
    "        i = leg_number-1\n",
    "        return round(float(baton_hand_off_times[i] - baton_hand_off_times[i-1]),2)\n",
    "\n",
    "\n",
    "  "
   ]
  },
  {
   "cell_type": "code",
   "execution_count": 9,
   "id": "8f32b757",
   "metadata": {},
   "outputs": [],
   "source": [
    "def displayTime(name, cumulative_times, leg_number):\n",
    "        split = getSplit(cumulative_times, leg_number)\n",
    "        if isinstance(split, str):\n",
    "            print(f\"Leg {leg_number}, {name}, - {split}\")\n",
    "        else:\n",
    "            print(f\"Leg {leg_number}, {name}, ran a {split} second race.\")\n"
   ]
  },
  {
   "cell_type": "code",
   "execution_count": 10,
   "id": "40471edf",
   "metadata": {},
   "outputs": [
    {
     "name": "stdout",
     "output_type": "stream",
     "text": [
      "Leg 1, Shamier Little, ran a 48.64 second race.\n",
      "Leg 2, Sydney McLaughline-Levone, ran a 48.57 second race.\n",
      "Leg 3, Gabby Thomas, ran a 49.3 second race.\n",
      "Leg 4, Alexis Holmes, ran a 48.49 second race.\n",
      "Leg 5, Alyson Felix, - Not a valid leg \n"
     ]
    }
   ],
   "source": [
    "displayTime(\"Shamier Little\", stopwatch, 1)\n",
    "displayTime(\"Sydney McLaughline-Levone\", stopwatch, 2)\n",
    "displayTime(\"Gabby Thomas\", stopwatch, 3)\n",
    "displayTime(\"Alexis Holmes\", stopwatch, 4)\n",
    "displayTime(\"Alyson Felix\", stopwatch, 5)"
   ]
  }
 ],
 "metadata": {
  "kernelspec": {
   "display_name": "Python 3",
   "language": "python",
   "name": "python3"
  },
  "language_info": {
   "codemirror_mode": {
    "name": "ipython",
    "version": 3
   },
   "file_extension": ".py",
   "mimetype": "text/x-python",
   "name": "python",
   "nbconvert_exporter": "python",
   "pygments_lexer": "ipython3",
   "version": "3.12.4"
  }
 },
 "nbformat": 4,
 "nbformat_minor": 5
}
